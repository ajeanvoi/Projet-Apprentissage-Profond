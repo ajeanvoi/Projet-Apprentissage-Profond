{
 "cells": [
  {
   "cell_type": "markdown",
   "metadata": {},
   "source": [
    "Projet Apprentissage Profond - Script de chargement des données \n",
    "\n",
    "Fortement inspiré de celui fourni "
   ]
  },
  {
   "cell_type": "code",
   "execution_count": null,
   "metadata": {},
   "outputs": [],
   "source": [
    "!git clone https://github.com/ajeanvoi/Projet-Apprentissage-Profond/tree/main/Datas.git\n",
    "path_to_dir = \"./Datas/\""
   ]
  },
  {
   "cell_type": "code",
   "execution_count": 1,
   "metadata": {},
   "outputs": [
    {
     "ename": "ModuleNotFoundError",
     "evalue": "No module named 'numpy'",
     "output_type": "error",
     "traceback": [
      "\u001b[0;31m---------------------------------------------------------------------------\u001b[0m",
      "\u001b[0;31mModuleNotFoundError\u001b[0m                       Traceback (most recent call last)",
      "Cell \u001b[0;32mIn[1], line 4\u001b[0m\n\u001b[1;32m      1\u001b[0m \u001b[38;5;28;01mimport\u001b[39;00m \u001b[38;5;21;01mos\u001b[39;00m\n\u001b[1;32m      2\u001b[0m \u001b[38;5;28;01mimport\u001b[39;00m \u001b[38;5;21;01mshutil\u001b[39;00m\n\u001b[0;32m----> 4\u001b[0m \u001b[38;5;28;01mimport\u001b[39;00m \u001b[38;5;21;01mnumpy\u001b[39;00m \u001b[38;5;28;01mas\u001b[39;00m \u001b[38;5;21;01mnp\u001b[39;00m\n\u001b[1;32m      5\u001b[0m \u001b[38;5;28;01mimport\u001b[39;00m \u001b[38;5;21;01mPIL\u001b[39;00m\n\u001b[1;32m      6\u001b[0m \u001b[38;5;28;01mfrom\u001b[39;00m \u001b[38;5;21;01mPIL\u001b[39;00m \u001b[38;5;28;01mimport\u001b[39;00m Image\n",
      "\u001b[0;31mModuleNotFoundError\u001b[0m: No module named 'numpy'"
     ]
    }
   ],
   "source": [
    "import os\n",
    "import shutil\n",
    "\n",
    "import numpy as np\n",
    "import PIL\n",
    "from PIL import Image\n",
    "import os, sys\n",
    "from scipy.io import loadmat\n",
    "\n",
    "\n",
    "def load_data(data_path, classes, dataset='train', image_size=64):\n",
    "\n",
    "    num_images = 0\n",
    "    for i in range(len(classes)):\n",
    "        dirs = sorted(os.listdir(data_path + dataset + '/' + classes[i]))\n",
    "        num_images += len(dirs)\n",
    "                                \n",
    "    x = np.zeros((num_images, image_size, image_size, 3))\n",
    "    y = np.zeros((num_images, 1))\n",
    "    \n",
    "    current_index = 0\n",
    "    \n",
    "    # Parcours des différents répertoires pour collecter les images\n",
    "    for idx_class in range(len(classes)):\n",
    "        dirs = sorted(os.listdir(data_path + dataset + '/' + classes[idx_class]))\n",
    "        num_images += len(dirs)\n",
    "    \n",
    "        # Chargement des images, \n",
    "        for idx_img in range(len(dirs)):\n",
    "            item = dirs[idx_img]\n",
    "            if os.path.isfile(data_path + dataset + '/' + classes[idx_class] + '/' + item):\n",
    "                # Ouverture de l'image\n",
    "                img = Image.open(data_path + dataset + '/' + classes[idx_class] + '/' + item)\n",
    "                # Conversion de l'image en RGB\n",
    "                img = img.convert('RGB')\n",
    "                # Redimensionnement de l'image et écriture dans la variable de retour x \n",
    "                img = img.resize((image_size,image_size))\n",
    "                x[current_index] = np.asarray(img)\n",
    "                # Écriture du label associé dans la variable de retour y\n",
    "                y[current_index] = idx_class\n",
    "                current_index += 1\n",
    "                \n",
    "    return x, y"
   ]
  },
  {
   "cell_type": "code",
   "execution_count": null,
   "metadata": {},
   "outputs": [],
   "source": [
    "labels = ['mtg', 'pok', 'ygh']\n",
    "\n",
    "x_train, y_train = load_data(path, labels, dataset='train', image_size=128)\n",
    "print(x_train.shape, y_train.shape)\n",
    "\n",
    "x_val, y_val = load_data(path, labels, dataset='validation', image_size=128)\n",
    "print(x_val.shape, y_val.shape)\n",
    "\n",
    "x_test, y_test = load_data(path, labels, dataset='test', image_size=128)\n",
    "print(x_test.shape, y_test.shape)"
   ]
  },
  {
   "cell_type": "code",
   "execution_count": null,
   "metadata": {},
   "outputs": [],
   "source": [
    "import matplotlib.pyplot as plt\n",
    "\n",
    "plt.figure(figsize=(..., ...))\n",
    "shuffle_indices = np.random.permutation(...)\n",
    "for i in range(0, ...):\n",
    "    plt.subplot(..., ..., i+1)\n",
    "    image = x_train[shuffle_indices[i]]\n",
    "    plt.title(labels[int(y_train[shuffle_indices[i]])])\n",
    "    plt.imshow(image/255)\n",
    "\n",
    "plt.tight_layout()\n",
    "plt.show()"
   ]
  },
  {
   "cell_type": "code",
   "execution_count": null,
   "metadata": {},
   "outputs": [],
   "source": []
  }
 ],
 "metadata": {
  "accelerator": "GPU",
  "colab": {
   "collapsed_sections": [],
   "machine_shape": "hm",
   "name": "IAM2020 - TP3 - Classification de chiens et chats.ipynb",
   "provenance": [],
   "toc_visible": true
  },
  "kernelspec": {
   "display_name": "Python 3 (ipykernel)",
   "language": "python",
   "name": "python3"
  },
  "language_info": {
   "codemirror_mode": {
    "name": "ipython",
    "version": 3
   },
   "file_extension": ".py",
   "mimetype": "text/x-python",
   "name": "python",
   "nbconvert_exporter": "python",
   "pygments_lexer": "ipython3",
   "version": "3.10.12"
  }
 },
 "nbformat": 4,
 "nbformat_minor": 4
}

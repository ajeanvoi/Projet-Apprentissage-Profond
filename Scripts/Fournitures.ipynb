{
 "cells": [
  {
   "cell_type": "markdown",
   "metadata": {
    "id": "WB1qz6Hr0PRo"
   },
   "source": [
    "Script de répartition des données dans un des ensembles d'entrainement, de test et de validation\n",
    "\n",
    "L'idée est sélectionner aléatoirement des images de chacune de nos classes MTG, YGH et POK afin de créer des ensembles de données de chacune des classes."
   ]
  },
  {
   "cell_type": "code",
   "execution_count": 3,
   "metadata": {
    "id": "pwN7cw1X0PRq"
   },
   "outputs": [
    {
     "ename": "ArgumentError",
     "evalue": "ArgumentError: Package os not found in current path.\n- Run `import Pkg; Pkg.add(\"os\")` to install the os package.",
     "output_type": "error",
     "traceback": [
      "ArgumentError: Package os not found in current path.\n",
      "- Run `import Pkg; Pkg.add(\"os\")` to install the os package.\n",
      "\n",
      "Stacktrace:\n",
      "  [1] macro expansion\n",
      "    @ ./loading.jl:1630 [inlined]\n",
      "  [2] macro expansion\n",
      "    @ ./lock.jl:267 [inlined]\n",
      "  [3] require(into::Module, mod::Symbol)\n",
      "    @ Base ./loading.jl:1611\n",
      "  [4] eval\n",
      "    @ ./boot.jl:370 [inlined]\n",
      "  [5] include_string(mapexpr::typeof(REPL.softscope), mod::Module, code::String, filename::String)\n",
      "    @ Base ./loading.jl:1903\n",
      "  [6] #invokelatest#2\n",
      "    @ ./essentials.jl:819 [inlined]\n",
      "  [7] invokelatest\n",
      "    @ ./essentials.jl:816 [inlined]\n",
      "  [8] (::VSCodeServer.var\"#214#215\"{VSCodeServer.NotebookRunCellArguments, String})()\n",
      "    @ VSCodeServer ~/.vscode/extensions/julialang.language-julia-1.74.2/scripts/packages/VSCodeServer/src/serve_notebook.jl:19\n",
      "  [9] withpath(f::VSCodeServer.var\"#214#215\"{VSCodeServer.NotebookRunCellArguments, String}, path::String)\n",
      "    @ VSCodeServer ~/.vscode/extensions/julialang.language-julia-1.74.2/scripts/packages/VSCodeServer/src/repl.jl:274\n",
      " [10] notebook_runcell_request(conn::VSCodeServer.JSONRPC.JSONRPCEndpoint{Base.PipeEndpoint, Base.PipeEndpoint}, params::VSCodeServer.NotebookRunCellArguments)\n",
      "    @ VSCodeServer ~/.vscode/extensions/julialang.language-julia-1.74.2/scripts/packages/VSCodeServer/src/serve_notebook.jl:13\n",
      " [11] dispatch_msg(x::VSCodeServer.JSONRPC.JSONRPCEndpoint{Base.PipeEndpoint, Base.PipeEndpoint}, dispatcher::VSCodeServer.JSONRPC.MsgDispatcher, msg::Dict{String, Any})\n",
      "    @ VSCodeServer.JSONRPC ~/.vscode/extensions/julialang.language-julia-1.74.2/scripts/packages/JSONRPC/src/typed.jl:67\n",
      " [12] serve_notebook(pipename::String, outputchannel_logger::Base.CoreLogging.SimpleLogger; crashreporting_pipename::String)\n",
      "    @ VSCodeServer ~/.vscode/extensions/julialang.language-julia-1.74.2/scripts/packages/VSCodeServer/src/serve_notebook.jl:139\n",
      " [13] top-level scope\n",
      "    @ ~/.vscode/extensions/julialang.language-julia-1.74.2/scripts/notebook/notebook.jl:35"
     ]
    }
   ],
   "source": [
    "import os\n",
    "import shutil\n",
    "import numpy as np\n",
    "\n",
    "datas_path = \"./../Datas/\"\n",
    "pok = \"pokemon/\"\n",
    "mtg = \"Magic/\"\n",
    "ygh = \"yugioh/\"\n",
    "classes = [pok, mtg, ygh]"
   ]
  },
  {
   "cell_type": "code",
   "execution_count": null,
   "metadata": {
    "id": "oKrisUQ90PRs"
   },
   "outputs": [],
   "source": [
    "def recup(nb, end, listidx):\n",
    "    if not os.path.exists(end) :\n",
    "        print(\"Je crée le dossier destination \" + end)\n",
    "        os.makedirs(end)\n",
    "    for cl in classes:\n",
    "        path = datas_path + cl\n",
    "        files = sorted(os.listdir(path))\n",
    "        nb_img = 0\n",
    "        while (nb_img<nb):\n",
    "            idx = np.random.randint(0,len(files))\n",
    "            while(idx in imgprises):\n",
    "                idx = np.random.randint(0,len(files))\n",
    "            img_name = files[idx]\n",
    "            file = path + img_name\n",
    "            print(file)\n",
    "            if os.path.isfile(file):\n",
    "                shutil.copy(file, end + cl + img_name)\n",
    "                nb_img += 1\n",
    "                listidx.append(idx)\n",
    "    return listidx\n"
   ]
  },
  {
   "cell_type": "code",
   "execution_count": null,
   "metadata": {
    "id": "Cc3pfMYL0PRt"
   },
   "outputs": [],
   "source": [
    "def main(nb_train, nb_test, nb_val):\n",
    "    listidx = []\n",
    "    print(\"Je fais quelque chose dans ce monde\")\n",
    "    listidx = recup(nb_test, \"./test/\", listidx)\n",
    "    listidx = recup(nb_train, \"./train/\", listidx)\n",
    "    _ = recup(nb_val, \"./validation/\", listidx)\n",
    "    print(\"OK\")"
   ]
  },
  {
   "cell_type": "code",
   "execution_count": null,
   "metadata": {},
   "outputs": [],
   "source": [
    "main(5,5,5)"
   ]
  }
 ],
 "metadata": {
  "accelerator": "GPU",
  "colab": {
   "machine_shape": "hm",
   "provenance": []
  },
  "kernelspec": {
   "display_name": "Julia 1.9.3",
   "language": "julia",
   "name": "julia-1.9"
  },
  "language_info": {
   "file_extension": ".jl",
   "mimetype": "application/julia",
   "name": "julia",
   "version": "1.9.3"
  }
 },
 "nbformat": 4,
 "nbformat_minor": 4
}

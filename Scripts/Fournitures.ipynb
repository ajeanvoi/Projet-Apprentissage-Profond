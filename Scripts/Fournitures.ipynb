{
 "cells": [
  {
   "cell_type": "markdown",
   "metadata": {
    "id": "WB1qz6Hr0PRo"
   },
   "source": [
    "Script de répartition des données dans un des ensembles d'entrainement, de test et de validation\n",
    "\n",
    "L'idée est sélectionner aléatoirement des images de chacune de nos classes MTG, YGH et POK afin de créer des ensembles de données de chacune des classes."
   ]
  },
  {
   "cell_type": "code",
   "execution_count": 10,
   "metadata": {
    "id": "pwN7cw1X0PRq"
   },
   "outputs": [],
   "source": [
    "import os\n",
    "import shutil\n",
    "import numpy as np\n",
    "\n",
    "datas_path = \"./../Datas/\"\n",
    "destination = \"./../Base/\"\n",
    "pok = \"pokemon/\"\n",
    "mtg = \"Magic/\"\n",
    "ygh = \"yugioh/\"\n",
    "classes = [pok, mtg, ygh]"
   ]
  },
  {
   "cell_type": "code",
   "execution_count": 11,
   "metadata": {
    "id": "oKrisUQ90PRs"
   },
   "outputs": [],
   "source": [
    "def recup(nb, end, listidx):\n",
    "    if not os.path.exists(end) :\n",
    "        print(\"Je crée le dossier destination \" + end)\n",
    "        os.makedirs(end)\n",
    "    for cl in classes:\n",
    "        if not os.path.exists(end + cl) :\n",
    "            print(\"Je crée le dossier destination \" + (end + cl))\n",
    "            os.makedirs(end + cl)\n",
    "        path = datas_path + cl\n",
    "        files = sorted(os.listdir(path))\n",
    "        nb_img = 0\n",
    "        while (nb_img<nb):\n",
    "            idx = np.random.randint(0,len(files))\n",
    "            while(idx in listidx):\n",
    "                idx = np.random.randint(0,len(files))\n",
    "            img_name = files[idx]\n",
    "            file = path + img_name\n",
    "            print(file)\n",
    "            if os.path.isfile(file):\n",
    "                shutil.copy(file, end + cl + img_name)\n",
    "                nb_img += 1\n",
    "                listidx.append(idx)\n",
    "    return listidx\n"
   ]
  },
  {
   "cell_type": "code",
   "execution_count": 12,
   "metadata": {
    "id": "Cc3pfMYL0PRt"
   },
   "outputs": [],
   "source": [
    "def main(nb_train, nb_test, nb_val):\n",
    "    listidx = []\n",
    "    print(\"Start Creation\")\n",
    "    listidx = recup(nb_test, destination + \"test/\", listidx)\n",
    "    listidx = recup(nb_train, destination + \"train/\", listidx)\n",
    "    _ = recup(nb_val, destination + \"validation/\", listidx)\n",
    "    print(\"End Creation\")\n"
   ]
  },
  {
   "cell_type": "code",
   "execution_count": 13,
   "metadata": {},
   "outputs": [
    {
     "name": "stdout",
     "output_type": "stream",
     "text": [
      "Je fais quelque chose dans ce monde\n",
      "Je crée le dossier destination ./test/pokemon/\n",
      "./../Datas/pokemon/LOR_83.jpg\n",
      "./../Datas/pokemon/AR_60.jpg\n",
      "./../Datas/pokemon/PAF_73.jpg\n",
      "./../Datas/pokemon/JU_18.jpg\n",
      "./../Datas/pokemon/FO_30.jpg\n",
      "Je crée le dossier destination ./test/Magic/\n",
      "./../Datas/Magic/xln_247.jpg\n",
      "./../Datas/Magic/chk_246.jpg\n",
      "./../Datas/Magic/exo_56.jpg\n",
      "./../Datas/Magic/inv_88.jpg\n",
      "./../Datas/Magic/som_157.jpg\n",
      "Je crée le dossier destination ./test/yugioh/\n",
      "./../Datas/yugioh/yugioh (1102).jpg\n",
      "./../Datas/yugioh/yugioh (140).jpg\n",
      "./../Datas/yugioh/yugioh (1292).jpg\n",
      "./../Datas/yugioh/yugioh (255).jpg\n",
      "./../Datas/yugioh/yugioh (1115).jpg\n",
      "Je crée le dossier destination ./train/\n",
      "Je crée le dossier destination ./train/pokemon/\n",
      "./../Datas/pokemon/NG_30.jpg\n",
      "./../Datas/pokemon/LOR_130.jpg\n",
      "./../Datas/pokemon/AR_40.jpg\n",
      "./../Datas/pokemon/MEW_97.jpg\n",
      "./../Datas/pokemon/MEW_7.jpg\n",
      "Je crée le dossier destination ./train/Magic/\n",
      "./../Datas/Magic/7ed_221.jpg\n",
      "./../Datas/Magic/shm_221.jpg\n",
      "./../Datas/Magic/7ed_280.jpg\n",
      "./../Datas/Magic/rav_46.jpg\n",
      "./../Datas/Magic/jud_20.jpg\n",
      "Je crée le dossier destination ./train/yugioh/\n",
      "./../Datas/yugioh/yugioh (374).jpg\n",
      "./../Datas/yugioh/yugioh (350).jpg\n",
      "./../Datas/yugioh/yugioh (1211).jpg\n",
      "./../Datas/yugioh/yugioh (948).jpg\n",
      "./../Datas/yugioh/yugioh (139).jpg\n",
      "Je crée le dossier destination ./validation/\n",
      "Je crée le dossier destination ./validation/pokemon/\n",
      "./../Datas/pokemon/PAF_201.jpg\n",
      "./../Datas/pokemon/LA_53.jpg\n",
      "./../Datas/pokemon/UL_52.jpg\n",
      "./../Datas/pokemon/NG_66.jpg\n",
      "./../Datas/pokemon/UL_45.jpg\n",
      "Je crée le dossier destination ./validation/Magic/\n",
      "./../Datas/Magic/plc_96.jpg\n",
      "./../Datas/Magic/mh2_239.jpg\n",
      "./../Datas/Magic/avr_212.jpg\n",
      "./../Datas/Magic/mrd_234.jpg\n",
      "./../Datas/Magic/ths_39.jpg\n",
      "Je crée le dossier destination ./validation/yugioh/\n",
      "./../Datas/yugioh/yugioh (1447).jpg\n",
      "./../Datas/yugioh/yugioh (274).jpg\n",
      "./../Datas/yugioh/yugioh (716).jpg\n",
      "./../Datas/yugioh/yugioh (338).jpg\n",
      "./../Datas/yugioh/yugioh (20).jpg\n",
      "OK\n"
     ]
    }
   ],
   "source": [
    "main(5,5,5)"
   ]
  }
 ],
 "metadata": {
  "accelerator": "GPU",
  "colab": {
   "machine_shape": "hm",
   "provenance": []
  },
  "kernelspec": {
   "display_name": "Python 3",
   "language": "python",
   "name": "python3"
  },
  "language_info": {
   "codemirror_mode": {
    "name": "ipython",
    "version": 3
   },
   "file_extension": ".py",
   "mimetype": "text/x-python",
   "name": "python",
   "nbconvert_exporter": "python",
   "pygments_lexer": "ipython3",
   "version": "3.11.8"
  }
 },
 "nbformat": 4,
 "nbformat_minor": 4
}
